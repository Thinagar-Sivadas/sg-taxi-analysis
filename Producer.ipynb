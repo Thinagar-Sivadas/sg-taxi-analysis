{
 "cells": [
  {
   "cell_type": "code",
   "execution_count": null,
   "id": "0",
   "metadata": {},
   "outputs": [],
   "source": [
    "import logging\n",
    "from dataclasses import dataclass, field\n",
    "\n",
    "from quixstreams import Application, MessageContext\n",
    "from quixstreams.models import TopicConfig\n",
    "from dagster import get_dagster_logger\n",
    "from functools import partial\n",
    "import json\n",
    "\n",
    "logging.debug(\"test\")"
   ]
  },
  {
   "cell_type": "code",
   "execution_count": null,
   "id": "1",
   "metadata": {},
   "outputs": [],
   "source": [
    "@dataclass\n",
    "class Producer:\n",
    "    \"\"\"Producer class to produce messages to a Kafka topic\"\"\"\n",
    "\n",
    "    topic_name: str\n",
    "    logger: logging.Logger\n",
    "    broker_address: str = \"redpanda:9092\"\n",
    "    num_partitions: int = 5\n",
    "    replication_factor: int = 1\n",
    "    app: Application = field(init=False, default=None)\n",
    "\n",
    "    def __post_init__(self):\n",
    "        self.start_app()\n",
    "\n",
    "    def start_app(self):\n",
    "        \"\"\"Start the application with the given broker address and topic configuration\"\"\"\n",
    "\n",
    "        self.app = Application(broker_address=self.broker_address, auto_create_topics=True, loglevel=None)\n",
    "        self.app.topic(\n",
    "            name=self.topic_name,\n",
    "            config=TopicConfig(replication_factor=self.replication_factor, num_partitions=self.num_partitions),\n",
    "        )\n",
    "\n",
    "    def delivery_report(self, err: BaseException | None, msg: MessageContext, custom_message: str = \"\"):\n",
    "        \"\"\"Delivery report callback to log the delivery status of the message\"\"\"\n",
    "\n",
    "        if err is not None:\n",
    "            self.logger.error(\"Message delivery failed: %s\", err)\n",
    "        else:\n",
    "            self.logger.info(\n",
    "                \"%s Message delivered to -> (Topic: %s, Partition: %s, Key: %s, Offset: %s)\",\n",
    "                custom_message,\n",
    "                msg.topic(),\n",
    "                msg.partition(),\n",
    "                msg.key(),\n",
    "                msg.offset(),\n",
    "            )\n",
    "\n",
    "    def produce(self, value: str, write_to_partition: int = None, key: str = None, custom_message: str = \"\"):\n",
    "        \"\"\"Produce message to the Kafka topic with the given value, partition and key\"\"\"\n",
    "\n",
    "        try:\n",
    "            with self.app.get_producer() as producer:\n",
    "                producer.produce(\n",
    "                    topic=self.topic_name,\n",
    "                    partition=write_to_partition,\n",
    "                    key=key,\n",
    "                    value=value,\n",
    "                    on_delivery=partial(self.delivery_report, custom_message=custom_message),\n",
    "                )\n",
    "        except Exception as e:\n",
    "            self.logger.error(\"An error occurred while producing message: %s\", e)\n",
    "            raise e\n"
   ]
  },
  {
   "cell_type": "code",
   "execution_count": null,
   "id": "2",
   "metadata": {},
   "outputs": [],
   "source": [
    "producer = Producer(topic_name='TaxiAvailability', logger=get_dagster_logger())\n",
    "producer.produce(value=json.dumps({'a':'b'}), write_to_partition=0)"
   ]
  },
  {
   "cell_type": "code",
   "execution_count": null,
   "id": "3",
   "metadata": {},
   "outputs": [],
   "source": []
  }
 ],
 "metadata": {
  "kernelspec": {
   "display_name": "Python 3 (ipykernel)",
   "language": "python",
   "name": "python3"
  },
  "language_info": {
   "codemirror_mode": {
    "name": "ipython",
    "version": 3
   },
   "file_extension": ".py",
   "mimetype": "text/x-python",
   "name": "python",
   "nbconvert_exporter": "python",
   "pygments_lexer": "ipython3",
   "version": "3.11.9"
  }
 },
 "nbformat": 4,
 "nbformat_minor": 5
}
