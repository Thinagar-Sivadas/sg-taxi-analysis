{
 "cells": [
  {
   "cell_type": "code",
   "execution_count": 2,
   "id": "2e2abbec-2c68-4b5e-a78d-6f71ff5070d9",
   "metadata": {},
   "outputs": [],
   "source": [
    "from confluent_kafka.admin import AdminClient, NewTopic\n"
   ]
  },
  {
   "cell_type": "code",
   "execution_count": 15,
   "id": "f57cfbc8-8cbb-451a-80e5-d461c15d07f1",
   "metadata": {},
   "outputs": [],
   "source": [
    "admin_client = AdminClient({\n",
    "    \"bootstrap.servers\": \"kafka-stream-processing:9092\"\n",
    "})"
   ]
  },
  {
   "cell_type": "code",
   "execution_count": 19,
   "id": "b108fbcd-de25-4c35-816d-957b784bef61",
   "metadata": {},
   "outputs": [],
   "source": [
    "topic_list = []\n",
    "topic_list.append(NewTopic(\"example_tasdopic\", 1, 1))"
   ]
  },
  {
   "cell_type": "code",
   "execution_count": 20,
   "id": "dc6535f3-7dbf-4e9a-aa9d-3c95d81db3ba",
   "metadata": {},
   "outputs": [
    {
     "data": {
      "text/plain": [
       "{'example_tasdopic': <Future at 0x7fe591c18310 state=running>}"
      ]
     },
     "execution_count": 20,
     "metadata": {},
     "output_type": "execute_result"
    }
   ],
   "source": [
    "admin_client.create_topics(topic_list)\n"
   ]
  },
  {
   "cell_type": "code",
   "execution_count": 21,
   "id": "74edfeae-bb2c-4b10-87e5-19a3299b8b5f",
   "metadata": {},
   "outputs": [
    {
     "data": {
      "text/plain": [
       "[NewTopic(topic=example_tasdopic,num_partitions=1)]"
      ]
     },
     "execution_count": 21,
     "metadata": {},
     "output_type": "execute_result"
    }
   ],
   "source": [
    "topic_list"
   ]
  },
  {
   "cell_type": "code",
   "execution_count": null,
   "id": "d0f3eb7e-a08a-4528-868b-bed3d285e353",
   "metadata": {},
   "outputs": [],
   "source": []
  }
 ],
 "metadata": {
  "kernelspec": {
   "display_name": "Python 3 (ipykernel)",
   "language": "python",
   "name": "python3"
  },
  "language_info": {
   "codemirror_mode": {
    "name": "ipython",
    "version": 3
   },
   "file_extension": ".py",
   "mimetype": "text/x-python",
   "name": "python",
   "nbconvert_exporter": "python",
   "pygments_lexer": "ipython3",
   "version": "3.11.9"
  }
 },
 "nbformat": 4,
 "nbformat_minor": 5
}
