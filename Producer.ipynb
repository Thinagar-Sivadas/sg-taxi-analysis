{
 "cells": [
  {
   "cell_type": "code",
   "execution_count": null,
   "id": "0",
   "metadata": {},
   "outputs": [],
   "source": [
    "from quixstreams import Application"
   ]
  },
  {
   "cell_type": "code",
   "execution_count": null,
   "id": "1",
   "metadata": {},
   "outputs": [],
   "source": [
    "app = Application(broker_address=\"redpanda:9092\", consumer_group=\"text-splitter-v1\")"
   ]
  },
  {
   "cell_type": "code",
   "execution_count": null,
   "id": "2",
   "metadata": {},
   "outputs": [],
   "source": [
    "messages_topic = app.topic(name=\"messages\", value_serializer=\"json\")"
   ]
  },
  {
   "cell_type": "code",
   "execution_count": null,
   "id": "3",
   "metadata": {},
   "outputs": [],
   "source": [
    "messages = [\n",
    "    {\"chat_id\": \"id1\", \"text\": \"Lorem ipsum dolor sit amet\"},\n",
    "    {\"chat_id\": \"id2\", \"text\": \"Consectetur adipiscing elit sed\"},\n",
    "    {\"chat_id\": \"id1\", \"text\": \"Do eiusmod tempor incididunt ut labore et\"},\n",
    "    {\"chat_id\": \"id3\", \"text\": \"Mollis nunc sed id semper\"},\n",
    "]"
   ]
  },
  {
   "cell_type": "code",
   "execution_count": null,
   "id": "4",
   "metadata": {},
   "outputs": [],
   "source": [
    "with app.get_producer() as producer:\n",
    "    for message in messages:\n",
    "        # Serialize chat message to send it to Kafka\n",
    "        # Use \"chat_id\" as a Kafka message key\n",
    "        kafka_msg = messages_topic.serialize(key=message[\"chat_id\"], value=message)\n",
    "\n",
    "        # Produce chat message to the topic\n",
    "        print(f'Produce event with key=\"{kafka_msg.key}\" value=\"{kafka_msg.value}\"')\n",
    "        producer.produce(\n",
    "            topic=messages_topic.name,\n",
    "            key=kafka_msg.key,\n",
    "            value=kafka_msg.value,\n",
    "        )\n"
   ]
  },
  {
   "cell_type": "code",
   "execution_count": null,
   "id": "5",
   "metadata": {},
   "outputs": [],
   "source": [
    "kafka_msg.value"
   ]
  }
 ],
 "metadata": {
  "kernelspec": {
   "display_name": "Python 3 (ipykernel)",
   "language": "python",
   "name": "python3"
  },
  "language_info": {
   "codemirror_mode": {
    "name": "ipython",
    "version": 3
   },
   "file_extension": ".py",
   "mimetype": "text/x-python",
   "name": "python",
   "nbconvert_exporter": "python",
   "pygments_lexer": "ipython3",
   "version": "3.11.9"
  }
 },
 "nbformat": 4,
 "nbformat_minor": 5
}
