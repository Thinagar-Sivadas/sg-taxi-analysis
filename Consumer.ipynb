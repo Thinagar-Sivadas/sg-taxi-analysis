{
 "cells": [
  {
   "cell_type": "code",
   "execution_count": null,
   "id": "0",
   "metadata": {},
   "outputs": [],
   "source": [
    "from quixstreams import Application\n",
    "import json\n",
    "import logging\n",
    "from dagster import get_dagster_logger\n",
    "from dataclasses import dataclass, field\n",
    "\n",
    "logging.debug(\"test\")"
   ]
  },
  {
   "cell_type": "code",
   "execution_count": null,
   "id": "1",
   "metadata": {},
   "outputs": [],
   "source": [
    "@dataclass\n",
    "class Consumer:\n",
    "    \"\"\"Consumer class to consume messages from a Kafka topic\"\"\"\n",
    "\n",
    "    topic_name: str\n",
    "    consumer_group: str\n",
    "    logger: logging.Logger\n",
    "    timeout: float = 1.5\n",
    "    auto_offset_reset: str = \"earliest\"\n",
    "    broker_address: str = \"redpanda:9092\"\n",
    "    app: Application = field(init=False, default=None)\n",
    "\n",
    "    def __post_init__(self):\n",
    "        self.start_app()\n",
    "\n",
    "    def start_app(self):\n",
    "        \"\"\"Start the application with the given broker address and topic configuration\"\"\"\n",
    "\n",
    "        self.app = Application(\n",
    "            broker_address=self.broker_address,\n",
    "            consumer_group=self.consumer_group,\n",
    "            auto_offset_reset=self.auto_offset_reset,\n",
    "            loglevel=None,\n",
    "        )\n",
    "\n",
    "    def consume(self):\n",
    "        \"\"\"Consume messages from the Kafka topic\"\"\"\n",
    "\n",
    "        try:\n",
    "            with self.app.get_consumer() as consumer:\n",
    "                consumer.subscribe([self.topic_name])\n",
    "                while True:\n",
    "                    msg = consumer.poll(self.timeout)\n",
    "\n",
    "                    if msg is None:\n",
    "                        self.logger.info(\"No message to consume\")\n",
    "                        break\n",
    "\n",
    "                    if msg.error() is not None:\n",
    "                        raise ValueError(msg.error())\n",
    "\n",
    "                    value = json.loads(msg.value())\n",
    "                    consumer.store_offsets(message=msg)\n",
    "                    self.logger.info(\n",
    "                        \"Consumed message from -> (Topic: %s, Partition: %s, Key: %s, Offset: %s)\",\n",
    "                        msg.topic(),\n",
    "                        msg.partition(),\n",
    "                        msg.key().decode(\"utf-8\") if msg.key() else None,\n",
    "                        msg.offset(),\n",
    "                    )\n",
    "                    return value\n",
    "        except Exception as e:\n",
    "            self.logger.error(\"An error occurred while consuming message: %s\", e)\n",
    "            raise e\n"
   ]
  },
  {
   "cell_type": "code",
   "execution_count": null,
   "id": "2",
   "metadata": {},
   "outputs": [],
   "source": [
    "consumer = Consumer(topic_name=\"TaxiAvailability\", consumer_group='GetTaxiAvailability-Datalake', logger=get_dagster_logger(), auto_offset_reset='earliest')\n",
    "x = consumer.consume()"
   ]
  },
  {
   "cell_type": "code",
   "execution_count": null,
   "id": "3",
   "metadata": {},
   "outputs": [],
   "source": [
    "x['features'][0]['properties']"
   ]
  },
  {
   "cell_type": "code",
   "execution_count": null,
   "id": "4",
   "metadata": {},
   "outputs": [],
   "source": [
    "x['features'][0]['geometry']['coordinates']"
   ]
  },
  {
   "cell_type": "code",
   "execution_count": null,
   "id": "5",
   "metadata": {},
   "outputs": [],
   "source": []
  }
 ],
 "metadata": {
  "kernelspec": {
   "display_name": "Python 3 (ipykernel)",
   "language": "python",
   "name": "python3"
  },
  "language_info": {
   "codemirror_mode": {
    "name": "ipython",
    "version": 3
   },
   "file_extension": ".py",
   "mimetype": "text/x-python",
   "name": "python",
   "nbconvert_exporter": "python",
   "pygments_lexer": "ipython3",
   "version": "3.11.9"
  }
 },
 "nbformat": 4,
 "nbformat_minor": 5
}
