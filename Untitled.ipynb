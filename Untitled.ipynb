{
 "cells": [
  {
   "cell_type": "code",
   "execution_count": null,
   "id": "0",
   "metadata": {},
   "outputs": [],
   "source": [
    "from sg_taxi_data.api import get_data\n",
    "import io, boto3, pandas as pd"
   ]
  },
  {
   "cell_type": "code",
   "execution_count": null,
   "id": "1",
   "metadata": {},
   "outputs": [],
   "source": [
    "import datetime"
   ]
  },
  {
   "cell_type": "code",
   "execution_count": null,
   "id": "2",
   "metadata": {},
   "outputs": [],
   "source": [
    "process_partition_date_time = datetime.datetime.strptime('2024-03-01', \"%Y-%m-%d\")"
   ]
  },
  {
   "cell_type": "code",
   "execution_count": null,
   "id": "3",
   "metadata": {},
   "outputs": [],
   "source": [
    "process_partition_date_time.strftime(\"%Y-%m-%d\")"
   ]
  },
  {
   "cell_type": "code",
   "execution_count": null,
   "id": "4",
   "metadata": {},
   "outputs": [],
   "source": [
    "data = await get_data(date_time='2024-03-17 17:20')\n",
    "# s3 = boto3.client('s3',\n",
    "#                   endpoint_url=\"http://minio-datalake:9000\",\n",
    "#                   aws_access_key_id='minio',\n",
    "#                   aws_secret_access_key='minio123')\n",
    "# for feature in data.features:\n",
    "#     timestamp = feature.properties.timestamp\n",
    "#     date = timestamp.split('T')[0]\n",
    "#     bytes = io.BytesIO(feature.model_dump_json().encode(\"utf-8\"))\n",
    "#     s3.put_object(Bucket='bronze', Body = bytes, Key=f'taxi_availability/date={date}/{timestamp}.json')"
   ]
  },
  {
   "cell_type": "code",
   "execution_count": null,
   "id": "5",
   "metadata": {},
   "outputs": [],
   "source": [
    "pd.read_json(io.BytesIO(data.features[0].model_dump_json().encode(\"utf-8\"))).to_markdown()"
   ]
  },
  {
   "cell_type": "code",
   "execution_count": null,
   "id": "6",
   "metadata": {},
   "outputs": [],
   "source": [
    "storage_options= {\"client_kwargs\": {\"endpoint_url\": \"http://minio-datalake:9000\"}, \"key\":\"minio\", \"secret\":\"minio123\"}"
   ]
  },
  {
   "cell_type": "code",
   "execution_count": null,
   "id": "7",
   "metadata": {},
   "outputs": [],
   "source": [
    "# df = pd.DataFrame([[1,2,3]], columns = [\"jira\",\"asd\",\"tom\"])\n",
    "# df.to_csv(\"s3://bronze/data.csv\", storage_options=storage_options)"
   ]
  },
  {
   "cell_type": "code",
   "execution_count": null,
   "id": "8",
   "metadata": {},
   "outputs": [],
   "source": [
    "# host.docker.internal"
   ]
  },
  {
   "cell_type": "code",
   "execution_count": null,
   "id": "9",
   "metadata": {},
   "outputs": [],
   "source": [
    "pd.read_json(\"s3://bronze/taxi_availability/date=2024-03-15/2024-03-15T23:59:26+08:00.json\", storage_options=storage_options)"
   ]
  },
  {
   "cell_type": "code",
   "execution_count": null,
   "id": "10",
   "metadata": {},
   "outputs": [],
   "source": []
  }
 ],
 "metadata": {
  "kernelspec": {
   "display_name": "Python 3 (ipykernel)",
   "language": "python",
   "name": "python3"
  },
  "language_info": {
   "codemirror_mode": {
    "name": "ipython",
    "version": 3
   },
   "file_extension": ".py",
   "mimetype": "text/x-python",
   "name": "python",
   "nbconvert_exporter": "python",
   "pygments_lexer": "ipython3",
   "version": "3.12.2"
  }
 },
 "nbformat": 4,
 "nbformat_minor": 5
}
