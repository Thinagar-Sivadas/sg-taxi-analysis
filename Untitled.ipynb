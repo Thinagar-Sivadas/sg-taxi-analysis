{
 "cells": [
  {
   "cell_type": "code",
   "execution_count": null,
   "id": "0",
   "metadata": {},
   "outputs": [],
   "source": [
    "import asyncio\n",
    "import datetime\n",
    "from datetime import time\n",
    "\n",
    "import aiohttp\n",
    "import pandas as pd\n",
    "from dateutil import tz\n",
    "\n",
    "from sg_taxi_data.model import FeatureCollection\n",
    "\n",
    "current_timezone = tz.gettz(\"Asia/Singapore\")\n",
    "\n",
    "\n",
    "async def get_interval(date: str = \"today\"):\n",
    "    \"\"\"Get the start and end interval for the date provided. If no date is provided, it will default to today\"\"\"\n",
    "\n",
    "    current_date_time = datetime.datetime.now(datetime.UTC).astimezone(current_timezone)\n",
    "\n",
    "    if date == \"today\":\n",
    "        process_date = datetime.datetime.now(datetime.UTC).astimezone(current_timezone).date()\n",
    "    else:\n",
    "        process_date = datetime.datetime.strptime(date, \"%Y-%m-%d\").date()\n",
    "\n",
    "    start_date_time = datetime.datetime.combine(process_date, time.min)\n",
    "\n",
    "    if process_date < current_date_time.date():\n",
    "        end_date_time = datetime.datetime.combine(process_date, time.max)\n",
    "    else:\n",
    "        end_date_time = current_date_time.replace(tzinfo=None)\n",
    "\n",
    "    intervals = [\n",
    "        dttm.strftime(\"%Y-%m-%dT%H:%M:%S\") for dttm in pd.date_range(start_date_time, end_date_time, freq=\"1min\")\n",
    "    ]\n",
    "\n",
    "    return intervals[0:2]\n",
    "\n",
    "\n",
    "async def send_request(session: aiohttp.ClientSession, interval: str, version: str):\n",
    "    \"\"\"Send request to the API for the taxi availability data for the interval provided\"\"\"\n",
    "\n",
    "    print(f\"Sending request for {interval}\")\n",
    "    response = await session.get(\n",
    "        f\"https://api.data.gov.sg/{version}/transport/taxi-availability?date_time={interval}\",\n",
    "        raise_for_status=True,\n",
    "        timeout=300,\n",
    "    )\n",
    "    print(f\"Request for {interval} successful\")\n",
    "    return response\n",
    "\n",
    "\n",
    "async def get_data(version: str = \"v1\", date: str = \"today\"):\n",
    "    \"\"\"Get the taxi availability data for the date provided\"\"\"\n",
    "\n",
    "    async with aiohttp.ClientSession() as session:\n",
    "        intervals = await get_interval(date)\n",
    "        tasks = [send_request(session, interval, version) for interval in intervals]\n",
    "        responses = await asyncio.gather(*tasks)\n",
    "        responses = [await response.json() for response in responses]\n",
    "\n",
    "    data = {\"features\": []}\n",
    "    for response in responses:\n",
    "        data[\"features\"].extend(response[\"features\"])\n",
    "\n",
    "    return FeatureCollection(**data)"
   ]
  },
  {
   "cell_type": "code",
   "execution_count": null,
   "id": "1",
   "metadata": {},
   "outputs": [],
   "source": [
    "data = await get_data()"
   ]
  },
  {
   "cell_type": "code",
   "execution_count": null,
   "id": "2",
   "metadata": {},
   "outputs": [],
   "source": []
  },
  {
   "cell_type": "code",
   "execution_count": null,
   "id": "3",
   "metadata": {},
   "outputs": [],
   "source": []
  },
  {
   "cell_type": "code",
   "execution_count": null,
   "id": "4",
   "metadata": {},
   "outputs": [],
   "source": [
    "import pandas as pd"
   ]
  },
  {
   "cell_type": "code",
   "execution_count": null,
   "id": "5",
   "metadata": {},
   "outputs": [],
   "source": [
    "df = pd.DataFrame([[1,2,3]], columns = [\"jira\",\"asd\",\"tom\"])"
   ]
  },
  {
   "cell_type": "code",
   "execution_count": null,
   "id": "6",
   "metadata": {},
   "outputs": [],
   "source": [
    "df.shape"
   ]
  },
  {
   "cell_type": "code",
   "execution_count": null,
   "id": "7",
   "metadata": {},
   "outputs": [],
   "source": [
    "endpoint = \"http://minio-datalake:9000\""
   ]
  },
  {
   "cell_type": "code",
   "execution_count": null,
   "id": "8",
   "metadata": {},
   "outputs": [],
   "source": [
    "storage_options={\n",
    "   'key': \"minio\",\n",
    "   'secret': \"minio123\",\n",
    "   'endpoint_url': endpoint,\n",
    "}"
   ]
  },
  {
   "cell_type": "code",
   "execution_count": null,
   "id": "9",
   "metadata": {},
   "outputs": [],
   "source": [
    "df.to_csv(\"s3://bronze/data.csv\", storage_options=storage_options)"
   ]
  },
  {
   "cell_type": "code",
   "execution_count": null,
   "id": "10",
   "metadata": {},
   "outputs": [],
   "source": [
    "# host.docker.internal"
   ]
  },
  {
   "cell_type": "code",
   "execution_count": null,
   "id": "11",
   "metadata": {},
   "outputs": [],
   "source": [
    "pd.read_csv(\"s3://bronze/data.csv\", storage_options=storage_options)"
   ]
  },
  {
   "cell_type": "code",
   "execution_count": null,
   "id": "12",
   "metadata": {},
   "outputs": [],
   "source": [
    "df"
   ]
  }
 ],
 "metadata": {
  "kernelspec": {
   "display_name": "Python 3 (ipykernel)",
   "language": "python",
   "name": "python3"
  },
  "language_info": {
   "codemirror_mode": {
    "name": "ipython",
    "version": 3
   },
   "file_extension": ".py",
   "mimetype": "text/x-python",
   "name": "python",
   "nbconvert_exporter": "python",
   "pygments_lexer": "ipython3",
   "version": "3.12.2"
  }
 },
 "nbformat": 4,
 "nbformat_minor": 5
}
