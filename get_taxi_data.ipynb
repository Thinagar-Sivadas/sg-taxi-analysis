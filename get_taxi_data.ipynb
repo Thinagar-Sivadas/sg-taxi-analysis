{
 "cells": [
  {
   "cell_type": "code",
   "execution_count": null,
   "id": "0",
   "metadata": {},
   "outputs": [],
   "source": [
    "import asyncio\n",
    "import datetime\n",
    "import pandas as pd\n",
    "from datetime import time\n",
    "import aiohttp\n",
    "from dateutil import tz\n",
    "from dataclasses import dataclass"
   ]
  },
  {
   "cell_type": "code",
   "execution_count": null,
   "id": "1",
   "metadata": {},
   "outputs": [],
   "source": [
    "@dataclass\n",
    "class TaxiAvailability:\n",
    "    date:str\n",
    "    max_coroutine: int = 10\n",
    "    local_timezone: str = \"Asia/Singapore\"\n",
    "    \n",
    "\n",
    "    async def generate_date_time_interval(self) -> list[str]:\n",
    "\n",
    "        date_to_process = datetime.datetime.strptime(self.date, \"%Y-%m-%d\").date()\n",
    "    \n",
    "        start_date_time = datetime.datetime.combine(date_to_process, time.min)\n",
    "        end_date_time = datetime.datetime.combine(date_to_process, time.max)\n",
    "    \n",
    "        intervals = [\n",
    "            dttm.strftime(\"%Y-%m-%dT%H:%M:%S\") for dttm in pd.date_range(start_date_time, end_date_time, freq=\"1min\")\n",
    "        ]\n",
    "    \n",
    "        return intervals\n",
    "\n",
    "    async def get_date_time(self) -> list[str]:\n",
    "\n",
    "        date_time_to_process = datetime.datetime.strptime(self.date, \"%Y-%m-%d\").replace(tzinfo=tz.gettz(self.local_timezone))\n",
    "        current_date_time = datetime.datetime.now(datetime.UTC).astimezone(tz.gettz(self.local_timezone))\n",
    "    \n",
    "        if date_time_to_process.date()<current_date_time.date():\n",
    "            date_time = await self.generate_date_time_interval()\n",
    "        else:\n",
    "            date_time = [pd.Timestamp(current_date_time).floor('1min').strftime(\"%Y-%m-%dT%H:%M:%S\")]\n",
    "    \n",
    "        return date_time\n",
    "\n",
    "    async def get_request(self, session: aiohttp.ClientSession, semaphore: asyncio.Semaphore, date_time:str, coroutine:int) -> None:\n",
    "\n",
    "        async with semaphore:\n",
    "            print(f'[Coroutine {coroutine}] Retrieving taxi availability data for {date_time} -> Starting')\n",
    "            response = await session.get('https://api.data.gov.sg/v1/transport/taxi-availability',\n",
    "                                         params = {'date_time':date_time}, timeout=300)\n",
    "        \n",
    "            if response.status != 200:\n",
    "                print(f'[Coroutine {coroutine}] Retrieving taxi availability data for {date_time} -> Unsuccessful '+\n",
    "                f'[Status code: {response.status}, Reason: {response.reason}, URL: {response.url}]')\n",
    "                # Function Send data to kafka dlq\n",
    "            else:\n",
    "                data = await response.json()\n",
    "                print(f'[Coroutine {coroutine}] Retrieving taxi availability data for {date_time} -> Completed')\n",
    "                # Function Send data to kafka\n",
    "\n",
    "    async def retrieve_response(self, date_time_list: list[str]) -> None:\n",
    "\n",
    "        semaphore = asyncio.Semaphore(self.max_coroutine)\n",
    "        async with aiohttp.ClientSession(headers={'content-type':\"application/json\"}, raise_for_status=False) as session:\n",
    "            coroutine_request_list = [self.get_request(session, semaphore, date_time, ind+1) for ind, date_time in enumerate(date_time_list)]\n",
    "            await asyncio.gather(*coroutine_request_list)\n",
    "\n",
    "    async def retrieve_data(self) -> None:\n",
    "\n",
    "        date_time = await self.get_date_time()\n",
    "        await self.retrieve_response(date_time[0:10])"
   ]
  },
  {
   "cell_type": "code",
   "execution_count": null,
   "id": "2",
   "metadata": {},
   "outputs": [],
   "source": [
    "taxi_availability = TaxiAvailability(date='2024-06-30')"
   ]
  },
  {
   "cell_type": "code",
   "execution_count": null,
   "id": "3",
   "metadata": {},
   "outputs": [],
   "source": [
    "await taxi_availability.retrieve_data()"
   ]
  },
  {
   "cell_type": "code",
   "execution_count": null,
   "id": "4",
   "metadata": {},
   "outputs": [],
   "source": []
  }
 ],
 "metadata": {
  "kernelspec": {
   "display_name": "Python 3 (ipykernel)",
   "language": "python",
   "name": "python3"
  },
  "language_info": {
   "codemirror_mode": {
    "name": "ipython",
    "version": 3
   },
   "file_extension": ".py",
   "mimetype": "text/x-python",
   "name": "python",
   "nbconvert_exporter": "python",
   "pygments_lexer": "ipython3",
   "version": "3.11.9"
  }
 },
 "nbformat": 4,
 "nbformat_minor": 5
}
