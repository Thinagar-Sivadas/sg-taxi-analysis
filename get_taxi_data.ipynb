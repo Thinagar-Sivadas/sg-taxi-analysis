{
 "cells": [
  {
   "cell_type": "code",
   "execution_count": null,
   "id": "0",
   "metadata": {},
   "outputs": [],
   "source": [
    "import asyncio\n",
    "import datetime\n",
    "from datetime import time, timedelta\n",
    "from dateutil import tz\n",
    "import aiohttp\n",
    "import pandas as pd"
   ]
  },
  {
   "cell_type": "code",
   "execution_count": null,
   "id": "1",
   "metadata": {},
   "outputs": [],
   "source": [
    "current_timezone = tz.gettz(\"Asia/Singapore\")"
   ]
  },
  {
   "cell_type": "code",
   "execution_count": null,
   "id": "2",
   "metadata": {},
   "outputs": [],
   "source": [
    "headers = {'content-type':\"application/json\"}\n",
    "payload = {'date_time':\"2024-05-21T00:00:06\"}"
   ]
  },
  {
   "cell_type": "code",
   "execution_count": null,
   "id": "3",
   "metadata": {},
   "outputs": [],
   "source": [
    "result = requests.get(url='https://api.data.gov.sg/v1/transport/taxi-availability', headers=headers, params=payload)"
   ]
  },
  {
   "cell_type": "code",
   "execution_count": null,
   "id": "4",
   "metadata": {},
   "outputs": [],
   "source": [
    "result.raise_for_status()"
   ]
  },
  {
   "cell_type": "code",
   "execution_count": null,
   "id": "5",
   "metadata": {},
   "outputs": [],
   "source": [
    "result.text"
   ]
  },
  {
   "cell_type": "code",
   "execution_count": null,
   "id": "6",
   "metadata": {},
   "outputs": [],
   "source": [
    "async def get_interval(date_time: str):\n",
    "\n",
    "    if len(date_time) == 16:\n",
    "        process_date_time = datetime.datetime.strptime(date_time, \"%Y-%m-%d %H:%M\")\n",
    "        start_date_time = process_date_time - timedelta(minutes=5)\n",
    "        end_date_time = process_date_time\n",
    "        intervals = [\n",
    "            dttm.strftime(\"%Y-%m-%dT%H:%M:%S\")\n",
    "            for dttm in pd.date_range(start_date_time, end_date_time, freq=\"1min\", inclusive=\"right\")\n",
    "        ]\n",
    "\n",
    "    else:\n",
    "        current_date_time = datetime.datetime.now(datetime.UTC).astimezone(current_timezone)\n",
    "\n",
    "        if date_time == \"today\":\n",
    "            process_date = datetime.datetime.now(datetime.UTC).astimezone(current_timezone).date()\n",
    "        else:\n",
    "            process_date = datetime.datetime.strptime(date_time, \"%Y-%m-%d\").date()\n",
    "\n",
    "        start_date_time = datetime.datetime.combine(process_date, time.min)\n",
    "\n",
    "        if process_date < current_date_time.date():\n",
    "            end_date_time = datetime.datetime.combine(process_date, time.max)\n",
    "        else:\n",
    "            end_date_time = current_date_time.replace(tzinfo=None)\n",
    "\n",
    "        intervals = [\n",
    "            dttm.strftime(\"%Y-%m-%dT%H:%M:%S\") for dttm in pd.date_range(start_date_time, end_date_time, freq=\"1min\")\n",
    "        ]\n",
    "\n",
    "    return intervals"
   ]
  },
  {
   "cell_type": "code",
   "execution_count": null,
   "id": "7",
   "metadata": {},
   "outputs": [],
   "source": [
    "data = await get_interval(date_time='2024-05-21')"
   ]
  },
  {
   "cell_type": "code",
   "execution_count": null,
   "id": "8",
   "metadata": {},
   "outputs": [],
   "source": [
    "len(data)"
   ]
  }
 ],
 "metadata": {
  "kernelspec": {
   "display_name": "Python 3 (ipykernel)",
   "language": "python",
   "name": "python3"
  },
  "language_info": {
   "codemirror_mode": {
    "name": "ipython",
    "version": 3
   },
   "file_extension": ".py",
   "mimetype": "text/x-python",
   "name": "python",
   "nbconvert_exporter": "python",
   "pygments_lexer": "ipython3",
   "version": "3.12.3"
  }
 },
 "nbformat": 4,
 "nbformat_minor": 5
}
