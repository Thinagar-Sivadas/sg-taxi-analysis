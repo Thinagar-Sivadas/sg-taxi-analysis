{
 "cells": [
  {
   "cell_type": "code",
   "execution_count": null,
   "id": "0",
   "metadata": {},
   "outputs": [],
   "source": [
    "from quixstreams import Application, logging\n",
    "from quixstreams.models import TopicConfig\n",
    "import json\n",
    "import logging\n",
    "from dagster import get_dagster_logger\n",
    "\n",
    "logging.debug(\"test\")"
   ]
  },
  {
   "cell_type": "code",
   "execution_count": null,
   "id": "1",
   "metadata": {},
   "outputs": [],
   "source": [
    "logger = get_dagster_logger()"
   ]
  },
  {
   "cell_type": "code",
   "execution_count": null,
   "id": "2",
   "metadata": {},
   "outputs": [],
   "source": [
    "app = Application(broker_address=\"redpanda:9092\", consumer_group=\"group1\", \n",
    "                  auto_offset_reset='latest')"
   ]
  },
  {
   "cell_type": "code",
   "execution_count": null,
   "id": "3",
   "metadata": {},
   "outputs": [],
   "source": [
    "with app.get_consumer() as consumer:\n",
    "\n",
    "    consumer.subscribe(['TaxiAvailability'])\n",
    "    while True:\n",
    "        msg = consumer.poll(2)\n",
    "        if msg is None:\n",
    "            print('Waiting...')\n",
    "        elif msg.error() is not None:\n",
    "            raise Exception(msg.error())\n",
    "        else:\n",
    "            key = msg.key().decode('utf8')\n",
    "            value = json.loads(msg.value())\n",
    "            offset = msg.offset()\n",
    "            print(offset, key, value)\n",
    "            consumer.store_offsets(message=msg)"
   ]
  },
  {
   "cell_type": "code",
   "execution_count": null,
   "id": "4",
   "metadata": {},
   "outputs": [],
   "source": []
  }
 ],
 "metadata": {
  "kernelspec": {
   "display_name": "Python 3 (ipykernel)",
   "language": "python",
   "name": "python3"
  },
  "language_info": {
   "codemirror_mode": {
    "name": "ipython",
    "version": 3
   },
   "file_extension": ".py",
   "mimetype": "text/x-python",
   "name": "python",
   "nbconvert_exporter": "python",
   "pygments_lexer": "ipython3",
   "version": "3.11.9"
  }
 },
 "nbformat": 4,
 "nbformat_minor": 5
}
